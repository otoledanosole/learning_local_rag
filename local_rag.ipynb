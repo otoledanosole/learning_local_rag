{
  "cells": [
    {
      "cell_type": "markdown",
      "metadata": {
        "id": "view-in-github",
        "colab_type": "text"
      },
      "source": [
        "<a href=\"https://colab.research.google.com/github/otoledanosole/learning_local_rag/blob/main/local_rag.ipynb\" target=\"_parent\"><img src=\"https://colab.research.google.com/assets/colab-badge.svg\" alt=\"Open In Colab\"/></a>"
      ]
    },
    {
      "cell_type": "markdown",
      "source": [
        "# Creation of a Local Retrieval Augmented Genration (RAG)\n",
        "\n",
        "Objective of the document"
      ],
      "metadata": {
        "id": "SrcJEbIGn99m"
      }
    },
    {
      "cell_type": "markdown",
      "source": [
        "## Example of what we are triying to build\n",
        "\n",
        "We are going to use the post\n"
      ],
      "metadata": {
        "id": "jFesvf_IojUG"
      }
    }
  ],
  "metadata": {
    "colab": {
      "name": "Te damos la bienvenida a Colaboratory",
      "toc_visible": true,
      "provenance": [],
      "include_colab_link": true
    },
    "kernelspec": {
      "display_name": "Python 3",
      "name": "python3"
    }
  },
  "nbformat": 4,
  "nbformat_minor": 0
}